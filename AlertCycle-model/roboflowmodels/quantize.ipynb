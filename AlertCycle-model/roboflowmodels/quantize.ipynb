{
 "cells": [
  {
   "cell_type": "code",
   "execution_count": null,
   "metadata": {},
   "outputs": [
    {
     "name": "stdout",
     "output_type": "stream",
     "text": [
      "Model quantized and saved as 'AlertCycleV6_quantized.pt'\n"
     ]
    }
   ],
   "source": [
    "import torch\n",
    "import torch.quantization\n",
    "from ultralytics import YOLO\n",
    "\n",
    "# Load your pre-trained model\n",
    "model = YOLO('AlertCycleV5.pt')\n",
    "model.eval()\n",
    "\n",
    "# Define the quantization configuration\n",
    "# We use dynamic quantization here, which is well-suited for CPUs (including ARM)\n",
    "model_quantized = torch.quantization.quantize_dynamic(\n",
    "    model, {torch.nn.Linear}, dtype=torch.qint8\n",
    ")\n",
    "\n",
    "# Save the quantized model\n",
    "torch.save(model_quantized, 'AlertCycleV5_quantized.pt')\n",
    "print(\"Model quantized and saved as 'AlertCycleV5_quantized.pt'\")\n"
   ]
  },
  {
   "cell_type": "code",
   "execution_count": null,
   "metadata": {},
   "outputs": [
    {
     "name": "stdout",
     "output_type": "stream",
     "text": [
      "Model pruned and saved as 'AlertCycleV6_pruned.pt'\n"
     ]
    }
   ],
   "source": [
    "from torch.nn.utils import prune\n",
    "\n",
    "# Function to prune the model\n",
    "def prune_model(model, amount=0.3):\n",
    "    for name, module in model.named_modules():\n",
    "        if isinstance(module, torch.nn.Conv2d) or isinstance(module, torch.nn.Linear):\n",
    "            prune.l1_unstructured(module, name='weight', amount=amount)\n",
    "    return model\n",
    "\n",
    "# Prune the model (with 30% of the weights pruned)\n",
    "model_pruned = prune_model(model_quantized, amount=0.3)\n",
    "\n",
    "# Save the pruned model\n",
    "torch.save(model_pruned, 'AlertCycleV5_pruned.pt')\n",
    "print(\"Model pruned and saved as 'AlertCycleV5_pruned.pt'\")\n"
   ]
  }
 ],
 "metadata": {
  "kernelspec": {
   "display_name": ".convnv",
   "language": "python",
   "name": "python3"
  },
  "language_info": {
   "codemirror_mode": {
    "name": "ipython",
    "version": 3
   },
   "file_extension": ".py",
   "mimetype": "text/x-python",
   "name": "python",
   "nbconvert_exporter": "python",
   "pygments_lexer": "ipython3",
   "version": "3.10.11"
  }
 },
 "nbformat": 4,
 "nbformat_minor": 2
}
